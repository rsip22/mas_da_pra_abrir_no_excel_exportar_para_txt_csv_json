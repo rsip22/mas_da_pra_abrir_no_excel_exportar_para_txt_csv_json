{
 "cells": [
  {
   "cell_type": "code",
   "execution_count": 2,
   "metadata": {},
   "outputs": [
    {
     "name": "stdout",
     "output_type": "stream",
     "text": [
      "Total cities: 740\n"
     ]
    }
   ],
   "source": [
    "import csv\n",
    "import pandas as pd\n",
    "import selenium as sl\n",
    "from selenium.webdriver.support.wait import WebDriverWait\n",
    "\n",
    "driver = sl.webdriver.Firefox()\n",
    "driver.get('https://djangogirls.org/events/')\n",
    "delay = 60\n",
    "locations_and_dates = dict()\n",
    "\n",
    "get_city = WebDriverWait(driver,\n",
    "                         delay).until(\n",
    "                                      lambda x: x.find_elements_by_class_name(\"overlay\"))\n",
    "count = 0\n",
    "\n",
    "for item in get_city:\n",
    "    count = count + 1\n",
    "    item_text = item.text.splitlines()\n",
    "    try:\n",
    "        city, date = item_text[0], item_text[1]\n",
    "        locations_and_dates[city] = date\n",
    "    except IndexError:\n",
    "        continue\n",
    "\n",
    "print('Total cities:', count)\n",
    "\n",
    "new_dic_dg = list()\n",
    "\n",
    "for name, value in locations_and_dates.items():\n",
    "    new_dic_dg.append({\"city\": name, \"date\": value})\n",
    "\n",
    "new_df = pd.DataFrame(new_dic_dg).to_csv('dg_with_pandas.csv', index=False, sep=';')\n",
    "    \n",
    "driver.close()"
   ]
  }
 ],
 "metadata": {
  "kernelspec": {
   "display_name": "Python 3",
   "language": "python",
   "name": "python3"
  },
  "language_info": {
   "codemirror_mode": {
    "name": "ipython",
    "version": 3
   },
   "file_extension": ".py",
   "mimetype": "text/x-python",
   "name": "python",
   "nbconvert_exporter": "python",
   "pygments_lexer": "ipython3",
   "version": "3.6.5"
  }
 },
 "nbformat": 4,
 "nbformat_minor": 2
}
